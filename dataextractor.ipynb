{
 "cells": [
  {
   "cell_type": "code",
   "execution_count": 2,
   "metadata": {},
   "outputs": [],
   "source": [
    "import yfinance as yf\n",
    "import os\n",
    "import pandas as pd\n",
    "import datetime as dt"
   ]
  },
  {
   "cell_type": "code",
   "execution_count": 19,
   "metadata": {},
   "outputs": [],
   "source": [
    "endDate=dt.datetime.now()\n",
    "startDate=startDate-dt.timedelta(days=365*10)\n",
    "close_column_df=pd.DataFrame()\n"
   ]
  },
  {
   "cell_type": "code",
   "execution_count": 28,
   "metadata": {},
   "outputs": [],
   "source": [
    "sensex_tickers = [\n",
    "    \"^BSESN\",\n",
    "    \"RELIANCE.NS\",     # Reliance Industries Limited\n",
    "    \"HDFCBANK.NS\",     # HDFC Bank Limited\n",
    "    \"INFY.NS\",         # Infosys Limited\n",
    "    \"ICICIBANK.NS\",    # ICICI Bank Limited\n",
    "    \"TCS.NS\",          # Tata Consultancy Services Limited\n",
    "    \"HINDUNILVR.NS\",   # Hindustan Unilever Limited\n",
    "    \"SBIN.NS\",         # State Bank of India\n",
    "    \"KOTAKBANK.NS\",    # Kotak Mahindra Bank Limited\n",
    "    \"BHARTIARTL.NS\",   # Bharti Airtel Limited\n",
    "    \"ITC.NS\",          # ITC Limited\n",
    "    \"ASIANPAINT.NS\",   # Asian Paints Limited\n",
    "    \"AXISBANK.NS\",     # Axis Bank Limited\n",
    "    \"BAJFINANCE.NS\",   # Bajaj Finance Limited\n",
    "    \"HCLTECH.NS\",      # HCL Technologies Limited\n",
    "    \"MARUTI.NS\",       # Maruti Suzuki India Limited\n",
    "    \"SUNPHARMA.NS\",    # Sun Pharmaceutical Industries Limited\n",
    "    \"M&M.NS\",          # Mahindra & Mahindra Limited\n",
    "    \"ULTRACEMCO.NS\",   # UltraTech Cement Limited\n",
    "    \"TITAN.NS\",        # Titan Company Limited\n",
    "    \"LT.NS\"            # Larsen & Toubro Limited\n",
    "]\n"
   ]
  },
  {
   "cell_type": "code",
   "execution_count": 29,
   "metadata": {},
   "outputs": [
    {
     "name": "stderr",
     "output_type": "stream",
     "text": [
      "[*********************100%***********************]  1 of 1 completed\n",
      "[*********************100%***********************]  1 of 1 completed\n",
      "[*********************100%***********************]  1 of 1 completed\n",
      "[*********************100%***********************]  1 of 1 completed\n",
      "[*********************100%***********************]  1 of 1 completed\n",
      "[*********************100%***********************]  1 of 1 completed\n",
      "[*********************100%***********************]  1 of 1 completed\n",
      "[*********************100%***********************]  1 of 1 completed\n",
      "[*********************100%***********************]  1 of 1 completed\n",
      "[*********************100%***********************]  1 of 1 completed\n",
      "[*********************100%***********************]  1 of 1 completed\n",
      "[*********************100%***********************]  1 of 1 completed\n",
      "[*********************100%***********************]  1 of 1 completed\n",
      "[*********************100%***********************]  1 of 1 completed\n",
      "[*********************100%***********************]  1 of 1 completed\n",
      "[*********************100%***********************]  1 of 1 completed\n",
      "[*********************100%***********************]  1 of 1 completed\n",
      "[*********************100%***********************]  1 of 1 completed\n",
      "[*********************100%***********************]  1 of 1 completed\n",
      "[*********************100%***********************]  1 of 1 completed\n",
      "[*********************100%***********************]  1 of 1 completed\n"
     ]
    }
   ],
   "source": [
    "for ticker in sensex_tickers:\n",
    "    data=yf.download(ticker,startDate,endDate)\n",
    "    close_column_df[ticker]=data['Close']"
   ]
  },
  {
   "cell_type": "code",
   "execution_count": 30,
   "metadata": {},
   "outputs": [],
   "source": [
    "output_folder=r\"C:\\Users\\bohra\\OneDrive\\Desktop\\Yahoo finance\\quants project\""
   ]
  },
  {
   "cell_type": "code",
   "execution_count": 31,
   "metadata": {},
   "outputs": [],
   "source": [
    "output_file=os.path.join(output_folder,'20compadata.xlsx')\n",
    "close_column_df.to_excel(output_file)"
   ]
  }
 ],
 "metadata": {
  "kernelspec": {
   "display_name": "Python 3",
   "language": "python",
   "name": "python3"
  },
  "language_info": {
   "codemirror_mode": {
    "name": "ipython",
    "version": 3
   },
   "file_extension": ".py",
   "mimetype": "text/x-python",
   "name": "python",
   "nbconvert_exporter": "python",
   "pygments_lexer": "ipython3",
   "version": "3.12.5"
  }
 },
 "nbformat": 4,
 "nbformat_minor": 2
}
